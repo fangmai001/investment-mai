{
 "cells": [
  {
   "cell_type": "code",
   "execution_count": 5,
   "metadata": {},
   "outputs": [
    {
     "name": "stdout",
     "output_type": "stream",
     "text": [
      "VT\n",
      "2020-01-01-2023-01-01\n",
      "final_profit_rate: 0.57%\n",
      "final_profit_rate_with_dividend: 3.41%\n",
      "final_income: 1152.0$\n",
      "total_cost: 34792.0$\n"
     ]
    }
   ],
   "source": [
    "from app.main.Main import Main\n",
    "\n",
    "app = Main()\n",
    "app.code = \"VT\" # 股票代碼\n",
    "app.start_date = \"2020-01-01\" # 起始日期\n",
    "app.end_date = \"2023-01-01\" # 結束日期\n",
    "app.investment_amount = 1000\n",
    "app.purchase_day = 1\n",
    "app.is_fund = False\n",
    "app.using_taiwan_stock_crawl = False\n",
    "app.using_taiwan_etf_crawl = False\n",
    "app.using_yf = True\n",
    "app.consider_tax = True # 考量到美股股息稅\n",
    "\n",
    "app.launch()"
   ]
  },
  {
   "cell_type": "code",
   "execution_count": 6,
   "metadata": {},
   "outputs": [
    {
     "name": "stdout",
     "output_type": "stream",
     "text": [
      "VWRA.L\n",
      "2020-01-01-2023-01-01\n",
      "final_profit_rate: 0.55%\n",
      "final_profit_rate_with_dividend: 0.55%\n",
      "final_income: 186.0$\n",
      "total_cost: 34006.0$\n"
     ]
    }
   ],
   "source": [
    "from app.main.Main import Main\n",
    "\n",
    "app = Main()\n",
    "app.code = \"VWRA.L\" # 股票代碼\n",
    "app.start_date = \"2020-01-01\" # 起始日期\n",
    "app.end_date = \"2023-01-01\" # 結束日期\n",
    "app.investment_amount = 1000\n",
    "app.purchase_day = 1\n",
    "app.is_fund = False\n",
    "app.using_taiwan_stock_crawl = False\n",
    "app.using_taiwan_etf_crawl = False\n",
    "app.using_yf = True\n",
    "\n",
    "app.launch()"
   ]
  },
  {
   "cell_type": "code",
   "execution_count": 3,
   "metadata": {},
   "outputs": [
    {
     "name": "stdout",
     "output_type": "stream",
     "text": [
      "ACDD01\n",
      "2013-01-01-2023-01-01\n",
      "final_profit_rate: 131.36%\n",
      "final_profit_rate_with_dividend: 131.36%\n",
      "final_income: 155124.0$\n",
      "total_cost: 118094.0$\n"
     ]
    }
   ],
   "source": [
    "from app.main.Main import Main\n",
    "\n",
    "app = Main()\n",
    "app.code = \"ACDD01\" # 安聯台灣大壩基金-A累積型(台幣)\n",
    "app.start_date = \"2013-01-01\" # 起始日期\n",
    "app.end_date = \"2023-01-01\" # 結束日期\n",
    "app.investment_amount = 1000\n",
    "app.purchase_day = 1\n",
    "app.is_fund = True\n",
    "app.using_taiwan_stock_crawl = False\n",
    "app.using_taiwan_etf_crawl = False\n",
    "\n",
    "app.launch()"
   ]
  },
  {
   "cell_type": "code",
   "execution_count": 4,
   "metadata": {},
   "outputs": [
    {
     "name": "stdout",
     "output_type": "stream",
     "text": [
      "0050.TW\n",
      "2013-01-01-2023-01-01\n",
      "final_profit_rate: 40.84%\n",
      "final_profit_rate_with_dividend: 81.8%\n",
      "final_income: 73188.0$\n",
      "total_cost: 115488.0$\n"
     ]
    }
   ],
   "source": [
    "from app.main.Main import Main\n",
    "\n",
    "app = Main()\n",
    "app.code = \"0050.TW\" # 股票代碼\n",
    "app.start_date = \"2013-01-01\" # 起始日期\n",
    "app.end_date = \"2023-01-01\" # 結束日期\n",
    "app.investment_amount = 1000\n",
    "app.purchase_day = 1\n",
    "app.is_fund = False\n",
    "app.using_taiwan_stock_crawl = True\n",
    "app.using_taiwan_etf_crawl = False\n",
    "\n",
    "app.launch()"
   ]
  },
  {
   "cell_type": "code",
   "execution_count": 7,
   "metadata": {},
   "outputs": [
    {
     "name": "stdout",
     "output_type": "stream",
     "text": [
      "0056.TW\n",
      "2013-01-01-2023-01-01\n",
      "final_profit_rate: -1.73%\n",
      "final_profit_rate_with_dividend: 49.39%\n",
      "final_income: 38470.0$\n",
      "total_cost: 118407.0$\n"
     ]
    }
   ],
   "source": [
    "from app.main.Main import Main\n",
    "\n",
    "app = Main()\n",
    "app.code = \"0056.TW\" # 股票代碼\n",
    "app.start_date = \"2013-01-01\" # 起始日期\n",
    "app.end_date = \"2023-01-01\" # 結束日期\n",
    "app.investment_amount = 1000\n",
    "app.purchase_day = 1\n",
    "app.is_fund = False\n",
    "app.using_taiwan_stock_crawl = True\n",
    "app.using_taiwan_etf_crawl = False\n",
    "\n",
    "app.launch()"
   ]
  },
  {
   "cell_type": "code",
   "execution_count": 8,
   "metadata": {},
   "outputs": [
    {
     "name": "stdout",
     "output_type": "stream",
     "text": [
      "2884.TW\n",
      "2013-01-01-2023-01-01\n",
      "final_profit_rate: 102.4%\n",
      "final_profit_rate_with_dividend: 240.63%\n",
      "final_income: 165082.0$\n",
      "total_cost: 119164.0$\n"
     ]
    }
   ],
   "source": [
    "from app.main.Main import Main\n",
    "\n",
    "app = Main()\n",
    "app.code = \"2884.TW\" #玉山金\n",
    "app.start_date = \"2013-01-01\" # 起始日期\n",
    "app.end_date = \"2023-01-01\" # 結束日期\n",
    "app.investment_amount = 1000\n",
    "app.purchase_day = 1\n",
    "app.is_fund = False\n",
    "app.using_taiwan_stock_crawl = True\n",
    "app.using_taiwan_etf_crawl = False\n",
    "\n",
    "app.launch()"
   ]
  },
  {
   "cell_type": "code",
   "execution_count": 9,
   "metadata": {},
   "outputs": [
    {
     "name": "stdout",
     "output_type": "stream",
     "text": [
      "5880.TW\n",
      "2013-01-01-2023-01-01\n",
      "final_profit_rate: 121.84%\n",
      "final_profit_rate_with_dividend: 291.19%\n",
      "final_income: 194051.0$\n",
      "total_cost: 119124.0$\n"
     ]
    }
   ],
   "source": [
    "from app.main.Main import Main\n",
    "\n",
    "app = Main()\n",
    "app.code = \"5880.TW\" # 合庫金\n",
    "app.start_date = \"2013-01-01\" # 起始日期\n",
    "app.end_date = \"2023-01-01\" # 結束日期\n",
    "app.investment_amount = 1000\n",
    "app.purchase_day = 1\n",
    "app.is_fund = False\n",
    "app.using_taiwan_stock_crawl = True\n",
    "app.using_taiwan_etf_crawl = False\n",
    "\n",
    "app.launch()"
   ]
  },
  {
   "cell_type": "code",
   "execution_count": 10,
   "metadata": {},
   "outputs": [
    {
     "name": "stdout",
     "output_type": "stream",
     "text": [
      "9941.TW\n",
      "2013-01-01-2023-01-01\n",
      "final_profit_rate: 248.91%\n",
      "final_profit_rate_with_dividend: 3136.26%\n",
      "final_income: 393276.0$\n",
      "total_cost: 116961.0$\n"
     ]
    }
   ],
   "source": [
    "from app.main.Main import Main\n",
    "\n",
    "app = Main()\n",
    "app.code = \"9941.TW\" # 裕融\n",
    "app.start_date = \"2013-01-01\" # 起始日期\n",
    "app.end_date = \"2023-01-01\" # 結束日期\n",
    "app.investment_amount = 1000\n",
    "app.purchase_day = 1\n",
    "app.is_fund = False\n",
    "app.using_taiwan_stock_crawl = True\n",
    "app.using_taiwan_etf_crawl = False\n",
    "\n",
    "app.launch()"
   ]
  },
  {
   "cell_type": "code",
   "execution_count": 11,
   "metadata": {},
   "outputs": [
    {
     "name": "stdout",
     "output_type": "stream",
     "text": [
      "2882.TW\n",
      "2013-01-01-2023-01-01\n",
      "final_profit_rate: 16.28%\n",
      "final_profit_rate_with_dividend: 100.59%\n",
      "final_income: 66414.0$\n",
      "total_cost: 117843.0$\n"
     ]
    }
   ],
   "source": [
    "from app.main.Main import Main\n",
    "\n",
    "app = Main()\n",
    "app.code = \"2882.TW\" # 國泰金\n",
    "app.start_date = \"2013-01-01\" # 起始日期\n",
    "app.end_date = \"2023-01-01\" # 結束日期\n",
    "app.investment_amount = 1000\n",
    "app.purchase_day = 1\n",
    "app.is_fund = False\n",
    "app.using_taiwan_stock_crawl = True\n",
    "app.using_taiwan_etf_crawl = False\n",
    "\n",
    "app.launch()"
   ]
  },
  {
   "cell_type": "code",
   "execution_count": 12,
   "metadata": {},
   "outputs": [
    {
     "name": "stdout",
     "output_type": "stream",
     "text": [
      "2330.TW\n",
      "2013-01-01-2023-01-01\n",
      "final_profit_rate: 195.65%\n",
      "final_profit_rate_with_dividend: 394.51%\n",
      "final_income: 244058.0$\n",
      "total_cost: 103474.0$\n"
     ]
    }
   ],
   "source": [
    "from app.main.Main import Main\n",
    "\n",
    "app = Main()\n",
    "app.code = \"2330.TW\" # 台積電\n",
    "app.start_date = \"2013-01-01\" # 起始日期\n",
    "app.end_date = \"2023-01-01\" # 結束日期\n",
    "app.investment_amount = 1000\n",
    "app.purchase_day = 1\n",
    "app.is_fund = False\n",
    "app.using_taiwan_stock_crawl = True\n",
    "app.using_taiwan_etf_crawl = False\n",
    "\n",
    "app.launch()"
   ]
  },
  {
   "cell_type": "code",
   "execution_count": 13,
   "metadata": {},
   "outputs": [
    {
     "name": "stdout",
     "output_type": "stream",
     "text": [
      "2480.TW\n",
      "2013-01-01-2023-01-01\n",
      "final_profit_rate: 235.8%\n",
      "final_profit_rate_with_dividend: 4692.99%\n",
      "final_income: 387971.0$\n",
      "total_cost: 118000.0$\n"
     ]
    }
   ],
   "source": [
    "from app.main.Main import Main\n",
    "\n",
    "app = Main()\n",
    "app.code = \"2480.TW\" # 敦陽科\n",
    "app.start_date = \"2013-01-01\" # 起始日期\n",
    "app.end_date = \"2023-01-01\" # 結束日期\n",
    "app.investment_amount = 1000\n",
    "app.purchase_day = 1\n",
    "app.is_fund = False\n",
    "app.using_taiwan_stock_crawl = True\n",
    "app.using_taiwan_etf_crawl = False\n",
    "\n",
    "app.launch()"
   ]
  },
  {
   "cell_type": "code",
   "execution_count": 14,
   "metadata": {},
   "outputs": [
    {
     "name": "stdout",
     "output_type": "stream",
     "text": [
      "2618.TW\n",
      "2013-01-01-2023-01-01\n",
      "final_profit_rate: 106.22%\n",
      "final_profit_rate_with_dividend: 136.91%\n",
      "final_income: 140092.0$\n",
      "total_cost: 119115.0$\n"
     ]
    }
   ],
   "source": [
    "from app.main.Main import Main\n",
    "\n",
    "app = Main()\n",
    "app.code = \"2618.TW\" # 長榮航空\n",
    "app.start_date = \"2013-01-01\" # 起始日期\n",
    "app.end_date = \"2023-01-01\" # 結束日期\n",
    "app.investment_amount = 1000\n",
    "app.purchase_day = 1\n",
    "app.is_fund = False\n",
    "app.using_taiwan_stock_crawl = True\n",
    "app.using_taiwan_etf_crawl = False\n",
    "\n",
    "app.launch()"
   ]
  },
  {
   "cell_type": "code",
   "execution_count": 15,
   "metadata": {},
   "outputs": [
    {
     "name": "stdout",
     "output_type": "stream",
     "text": [
      "0050.TW\n",
      "2022-05-01-2023-05-01\n",
      "final_profit_rate: 1.93%\n",
      "final_profit_rate_with_dividend: 4.07%\n",
      "final_income: 450.0$\n",
      "total_cost: 11288.0$\n",
      "2480.TW\n",
      "2022-05-01-2023-05-01\n",
      "final_profit_rate: 18.9%\n",
      "final_profit_rate_with_dividend: 18.9%\n",
      "final_income: 2192.0$\n",
      "total_cost: 11593.0$\n",
      "9941.TW\n",
      "2022-05-01-2023-05-01\n",
      "final_profit_rate: 12.79%\n",
      "final_profit_rate_with_dividend: 12.79%\n",
      "final_income: 1459.0$\n",
      "total_cost: 11408.0$\n"
     ]
    }
   ],
   "source": [
    "from app.main.Main import Main\n",
    "\n",
    "app = Main()\n",
    "app.start_date = \"2022-05-01\" # 起始日期\n",
    "app.end_date = \"2023-05-01\" # 結束日期\n",
    "app.investment_amount = 1000\n",
    "app.purchase_day = 1\n",
    "app.is_fund = False\n",
    "app.using_taiwan_stock_crawl = True\n",
    "app.using_taiwan_etf_crawl = False\n",
    "\n",
    "code_list =  [\n",
    "    \"0050.TW\", # 股票代碼\n",
    "    \"2480.TW\", # 敦陽科\n",
    "    \"9941.TW\", # 裕融\n",
    "]\n",
    "# code_list =  [\n",
    "#     \"0056.TW\", # 股票代碼\n",
    "#     \"0050.TW\", # 股票代碼\n",
    "# ]\n",
    "# code_list =  [\n",
    "#     \"0050.TW\", # 股票代碼\n",
    "#     \"2881.TW\", # 富邦金\n",
    "#     \"2882.TW\", # 國泰金\n",
    "#     \"2884.TW\", # 玉山金\n",
    "#     \"2887.TW\", # 台新金\n",
    "#     \"5880.TW\", # 合庫金\n",
    "# ]\n",
    "for code in code_list:\n",
    "    app.code = code\n",
    "    app.launch()"
   ]
  },
  {
   "cell_type": "code",
   "execution_count": 16,
   "metadata": {},
   "outputs": [
    {
     "name": "stdout",
     "output_type": "stream",
     "text": [
      "0050.TW\n",
      "2022-01-01-2023-06-18\n",
      "final_profit_rate: 8.76%\n",
      "final_profit_rate_with_dividend: 11.21%\n",
      "final_income: 19609.0$\n",
      "total_cost: 178892.0$\n"
     ]
    }
   ],
   "source": [
    "from app.main.Main import Main\n",
    "\n",
    "app = Main()\n",
    "app.code = \"0050.TW\" # 股票代碼\n",
    "app.start_date = \"2022-01-01\" # 起始日期\n",
    "app.end_date = \"2023-06-18\" # 結束日期\n",
    "app.investment_amount = 10000\n",
    "app.purchase_day = 1\n",
    "app.is_fund = False\n",
    "app.using_taiwan_stock_crawl = True\n",
    "app.using_taiwan_etf_crawl = False\n",
    "\n",
    "app.launch()"
   ]
  },
  {
   "cell_type": "code",
   "execution_count": null,
   "metadata": {},
   "outputs": [],
   "source": []
  }
 ],
 "metadata": {
  "kernelspec": {
   "display_name": "investment-calculation-mai-MkkAX3rc",
   "language": "python",
   "name": "python3"
  },
  "language_info": {
   "codemirror_mode": {
    "name": "ipython",
    "version": 3
   },
   "file_extension": ".py",
   "mimetype": "text/x-python",
   "name": "python",
   "nbconvert_exporter": "python",
   "pygments_lexer": "ipython3",
   "version": "3.11.3"
  },
  "orig_nbformat": 4
 },
 "nbformat": 4,
 "nbformat_minor": 2
}
