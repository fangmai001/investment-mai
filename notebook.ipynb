{
 "cells": [
  {
   "cell_type": "code",
   "execution_count": null,
   "metadata": {},
   "outputs": [],
   "source": [
    "from app.main.Main import Main\n",
    "\n",
    "app = Main()\n",
    "app.code = \"VT\" # 股票代碼\n",
    "app.start_date = \"2020-01-01\" # 起始日期\n",
    "app.end_date = \"2023-01-01\" # 結束日期\n",
    "app.investment_amount = 1000\n",
    "app.purchase_day = 1\n",
    "app.is_fund = False\n",
    "app.using_taiwan_stock_crawl = False\n",
    "app.using_taiwan_etf_crawl = False\n",
    "app.using_yf = True\n",
    "app.consider_tax = True # 考量到美股股息稅\n",
    "\n",
    "app.launch()"
   ]
  },
  {
   "cell_type": "code",
   "execution_count": null,
   "metadata": {},
   "outputs": [],
   "source": [
    "from app.main.Main import Main\n",
    "\n",
    "app = Main()\n",
    "app.code = \"VWRA.L\" # 股票代碼\n",
    "app.start_date = \"2020-01-01\" # 起始日期\n",
    "app.end_date = \"2023-01-01\" # 結束日期\n",
    "app.investment_amount = 1000\n",
    "app.purchase_day = 1\n",
    "app.is_fund = False\n",
    "app.using_taiwan_stock_crawl = False\n",
    "app.using_taiwan_etf_crawl = False\n",
    "app.using_yf = True\n",
    "\n",
    "app.launch()"
   ]
  },
  {
   "cell_type": "code",
   "execution_count": null,
   "metadata": {},
   "outputs": [],
   "source": [
    "from app.main.Main import Main\n",
    "\n",
    "app = Main()\n",
    "app.code = \"ACDD01\" # 安聯台灣大壩基金-A累積型(台幣)\n",
    "app.start_date = \"2013-01-01\" # 起始日期\n",
    "app.end_date = \"2023-01-01\" # 結束日期\n",
    "app.investment_amount = 1000\n",
    "app.purchase_day = 1\n",
    "app.is_fund = True\n",
    "app.using_taiwan_stock_crawl = False\n",
    "app.using_taiwan_etf_crawl = False\n",
    "\n",
    "app.launch()"
   ]
  },
  {
   "cell_type": "code",
   "execution_count": null,
   "metadata": {},
   "outputs": [],
   "source": [
    "from app.main.Main import Main\n",
    "\n",
    "app = Main()\n",
    "app.code = \"0050.TW\" # 股票代碼\n",
    "app.start_date = \"2013-01-01\" # 起始日期\n",
    "app.end_date = \"2023-01-01\" # 結束日期\n",
    "app.investment_amount = 1000\n",
    "app.purchase_day = 1\n",
    "app.is_fund = False\n",
    "app.using_taiwan_stock_crawl = True\n",
    "app.using_taiwan_etf_crawl = False\n",
    "\n",
    "app.launch()"
   ]
  },
  {
   "cell_type": "code",
   "execution_count": null,
   "metadata": {},
   "outputs": [],
   "source": [
    "from app.main.Main import Main\n",
    "\n",
    "app = Main()\n",
    "app.code = \"0056.TW\" # 股票代碼\n",
    "app.start_date = \"2013-01-01\" # 起始日期\n",
    "app.end_date = \"2023-01-01\" # 結束日期\n",
    "app.investment_amount = 1000\n",
    "app.purchase_day = 1\n",
    "app.is_fund = False\n",
    "app.using_taiwan_stock_crawl = True\n",
    "app.using_taiwan_etf_crawl = False\n",
    "\n",
    "app.launch()"
   ]
  },
  {
   "cell_type": "code",
   "execution_count": null,
   "metadata": {},
   "outputs": [],
   "source": [
    "from app.main.Main import Main\n",
    "\n",
    "app = Main()\n",
    "app.code = \"2884.TW\" #玉山金\n",
    "app.start_date = \"2013-01-01\" # 起始日期\n",
    "app.end_date = \"2023-01-01\" # 結束日期\n",
    "app.investment_amount = 1000\n",
    "app.purchase_day = 1\n",
    "app.is_fund = False\n",
    "app.using_taiwan_stock_crawl = True\n",
    "app.using_taiwan_etf_crawl = False\n",
    "\n",
    "app.launch()"
   ]
  },
  {
   "cell_type": "code",
   "execution_count": null,
   "metadata": {},
   "outputs": [],
   "source": [
    "from app.main.Main import Main\n",
    "\n",
    "app = Main()\n",
    "app.code = \"5880.TW\" # 合庫金\n",
    "app.start_date = \"2013-01-01\" # 起始日期\n",
    "app.end_date = \"2023-01-01\" # 結束日期\n",
    "app.investment_amount = 1000\n",
    "app.purchase_day = 1\n",
    "app.is_fund = False\n",
    "app.using_taiwan_stock_crawl = True\n",
    "app.using_taiwan_etf_crawl = False\n",
    "\n",
    "app.launch()"
   ]
  },
  {
   "cell_type": "code",
   "execution_count": null,
   "metadata": {},
   "outputs": [],
   "source": [
    "from app.main.Main import Main\n",
    "\n",
    "app = Main()\n",
    "app.code = \"9941.TW\" # 裕融\n",
    "app.start_date = \"2013-01-01\" # 起始日期\n",
    "app.end_date = \"2023-01-01\" # 結束日期\n",
    "app.investment_amount = 1000\n",
    "app.purchase_day = 1\n",
    "app.is_fund = False\n",
    "app.using_taiwan_stock_crawl = True\n",
    "app.using_taiwan_etf_crawl = False\n",
    "\n",
    "app.launch()"
   ]
  },
  {
   "cell_type": "code",
   "execution_count": null,
   "metadata": {},
   "outputs": [],
   "source": [
    "from app.main.Main import Main\n",
    "\n",
    "app = Main()\n",
    "app.code = \"2882.TW\" # 國泰金\n",
    "app.start_date = \"2013-01-01\" # 起始日期\n",
    "app.end_date = \"2023-01-01\" # 結束日期\n",
    "app.investment_amount = 1000\n",
    "app.purchase_day = 1\n",
    "app.is_fund = False\n",
    "app.using_taiwan_stock_crawl = True\n",
    "app.using_taiwan_etf_crawl = False\n",
    "\n",
    "app.launch()"
   ]
  },
  {
   "cell_type": "code",
   "execution_count": null,
   "metadata": {},
   "outputs": [],
   "source": [
    "from app.main.Main import Main\n",
    "\n",
    "app = Main()\n",
    "app.code = \"2330.TW\" # 台積電\n",
    "app.start_date = \"2013-01-01\" # 起始日期\n",
    "app.end_date = \"2023-01-01\" # 結束日期\n",
    "app.investment_amount = 1000\n",
    "app.purchase_day = 1\n",
    "app.is_fund = False\n",
    "app.using_taiwan_stock_crawl = True\n",
    "app.using_taiwan_etf_crawl = False\n",
    "\n",
    "app.launch()"
   ]
  },
  {
   "cell_type": "code",
   "execution_count": null,
   "metadata": {},
   "outputs": [],
   "source": [
    "from app.main.Main import Main\n",
    "\n",
    "app = Main()\n",
    "app.code = \"2480.TW\" # 敦陽科\n",
    "app.start_date = \"2013-01-01\" # 起始日期\n",
    "app.end_date = \"2023-01-01\" # 結束日期\n",
    "app.investment_amount = 1000\n",
    "app.purchase_day = 1\n",
    "app.is_fund = False\n",
    "app.using_taiwan_stock_crawl = True\n",
    "app.using_taiwan_etf_crawl = False\n",
    "\n",
    "app.launch()"
   ]
  },
  {
   "cell_type": "code",
   "execution_count": null,
   "metadata": {},
   "outputs": [],
   "source": [
    "from app.main.Main import Main\n",
    "\n",
    "app = Main()\n",
    "app.code = \"2618.TW\" # 長榮航空\n",
    "app.start_date = \"2013-01-01\" # 起始日期\n",
    "app.end_date = \"2023-01-01\" # 結束日期\n",
    "app.investment_amount = 1000\n",
    "app.purchase_day = 1\n",
    "app.is_fund = False\n",
    "app.using_taiwan_stock_crawl = True\n",
    "app.using_taiwan_etf_crawl = False\n",
    "\n",
    "app.launch()"
   ]
  },
  {
   "cell_type": "code",
   "execution_count": null,
   "metadata": {},
   "outputs": [],
   "source": [
    "from app.main.Main import Main\n",
    "\n",
    "app = Main()\n",
    "app.start_date = \"2022-05-01\" # 起始日期\n",
    "app.end_date = \"2023-05-01\" # 結束日期\n",
    "app.investment_amount = 1000\n",
    "app.purchase_day = 1\n",
    "app.is_fund = False\n",
    "app.using_taiwan_stock_crawl = True\n",
    "app.using_taiwan_etf_crawl = False\n",
    "\n",
    "code_list =  [\n",
    "    \"0050.TW\", # 股票代碼\n",
    "    \"2480.TW\", # 敦陽科\n",
    "    \"9941.TW\", # 裕融\n",
    "]\n",
    "# code_list =  [\n",
    "#     \"0056.TW\", # 股票代碼\n",
    "#     \"0050.TW\", # 股票代碼\n",
    "# ]\n",
    "# code_list =  [\n",
    "#     \"0050.TW\", # 股票代碼\n",
    "#     \"2881.TW\", # 富邦金\n",
    "#     \"2882.TW\", # 國泰金\n",
    "#     \"2884.TW\", # 玉山金\n",
    "#     \"2887.TW\", # 台新金\n",
    "#     \"5880.TW\", # 合庫金\n",
    "# ]\n",
    "for code in code_list:\n",
    "    app.code = code\n",
    "    app.launch()"
   ]
  },
  {
   "cell_type": "code",
   "execution_count": null,
   "metadata": {},
   "outputs": [],
   "source": []
  }
 ],
 "metadata": {
  "kernelspec": {
   "display_name": "investment-calculation-mai-MkkAX3rc",
   "language": "python",
   "name": "python3"
  },
  "language_info": {
   "codemirror_mode": {
    "name": "ipython",
    "version": 3
   },
   "file_extension": ".py",
   "mimetype": "text/x-python",
   "name": "python",
   "nbconvert_exporter": "python",
   "pygments_lexer": "ipython3",
   "version": "3.11.3"
  },
  "orig_nbformat": 4
 },
 "nbformat": 4,
 "nbformat_minor": 2
}
