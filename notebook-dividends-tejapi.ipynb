{
 "cells": [
  {
   "cell_type": "code",
   "execution_count": null,
   "metadata": {},
   "outputs": [],
   "source": [
    "import tejapi\n",
    "tejapi.ApiConfig.api_key = \"TfAfK2XBPXiQJclHBOFCxZQSeLeV8d\""
   ]
  },
  {
   "cell_type": "code",
   "execution_count": null,
   "metadata": {},
   "outputs": [],
   "source": [
    "info = tejapi.ApiConfig.info()"
   ]
  },
  {
   "cell_type": "code",
   "execution_count": null,
   "metadata": {},
   "outputs": [],
   "source": [
    "tejapi.get('TWN/APRCD',coid='2330', mdate='2018-01-20' ,paginate=True)"
   ]
  },
  {
   "cell_type": "code",
   "execution_count": null,
   "metadata": {},
   "outputs": [],
   "source": [
    "tejapi.get(\n",
    "'TWN/EWPRCD', \n",
    "coid = '2330',\n",
    "mdate={'gte':'2020-12-01', 'lte':'2020-12-31'}, \n",
    "opts={'columns': ['mdate','open_d','high_d','low_d','close_d']}, \n",
    "paginate=True\n",
    ")"
   ]
  },
  {
   "cell_type": "code",
   "execution_count": null,
   "metadata": {},
   "outputs": [],
   "source": []
  }
 ],
 "metadata": {
  "kernelspec": {
   "display_name": "investment-calculation-mai-MkkAX3rc",
   "language": "python",
   "name": "python3"
  },
  "language_info": {
   "codemirror_mode": {
    "name": "ipython",
    "version": 3
   },
   "file_extension": ".py",
   "mimetype": "text/x-python",
   "name": "python",
   "nbconvert_exporter": "python",
   "pygments_lexer": "ipython3",
   "version": "3.11.3"
  },
  "orig_nbformat": 4
 },
 "nbformat": 4,
 "nbformat_minor": 2
}
